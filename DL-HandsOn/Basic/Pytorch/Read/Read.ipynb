{
 "cells": [
  {
   "cell_type": "code",
   "execution_count": 4,
   "metadata": {},
   "outputs": [],
   "source": [
    "%matplotlib inline"
   ]
  },
  {
   "cell_type": "code",
   "execution_count": 12,
   "metadata": {
    "scrolled": false
   },
   "outputs": [
    {
     "name": "stdout",
     "output_type": "stream",
     "text": [
      "====================RAW DATA(Before Transform)====================\n",
      "Dataset MNIST\n",
      "    Number of datapoints: 60000\n",
      "    Root location: ../../data/\n",
      "    Split: Train\n",
      "image format:None, image size:(28, 28), image mode:L, label:5\n",
      "====================RAW DATA(After Transform)====================\n",
      "image shape:torch.Size([1, 28, 28]), label:5\n",
      "====================DataLoader====================\n",
      "train set length:600\n",
      "train set length:100\n",
      "batch size:100, channel:1, height:28, weight:28\n",
      "torch.Size([100, 28, 28])\n",
      "torch.Size([28, 100, 28])\n"
     ]
    }
   ],
   "source": [
    "#### import torch \n",
    "import torch.nn as nn\n",
    "import torchvision\n",
    "import torchvision.transforms as transforms\n",
    "from PIL import Image\n",
    "import matplotlib.pyplot as plt\n",
    "\n",
    "# Device configuration\n",
    "device = torch.device('cuda' if torch.cuda.is_available() else 'cpu')\n",
    "\n",
    "# Hyper-parameters\n",
    "sequence_length = 28\n",
    "input_size = 28\n",
    "hidden_size = 128\n",
    "num_layers = 2\n",
    "num_classes = 10\n",
    "batch_size = 100\n",
    "num_epochs = 2\n",
    "learning_rate = 0.01\n",
    "\n",
    "# MNIST dataset\n",
    "train_dataset = torchvision.datasets.MNIST(root='../../data/',\n",
    "                                           train=True, \n",
    "                                           download=True)\n",
    "print(\"====================RAW DATA(Before Transform)====================\")\n",
    "img, label = train_dataset[0]\n",
    "print(train_dataset)\n",
    "print (\"image format:%s, image size:%s, image mode:%s, label:%s\"\n",
    "    %(img.format, img.size, img.mode, label))\n",
    "# img.show()\n",
    "\n",
    "print(\"====================RAW DATA(After Transform)====================\")\n",
    "train_dataset = torchvision.datasets.MNIST(root='../../data/',\n",
    "                                           train=True, \n",
    "                                           transform=transforms.ToTensor(),\n",
    "                                           download=True)\n",
    "img, label = train_dataset[0]\n",
    "print(\"image shape:%s, label:%s\"\n",
    "    %(img.shape, label))\n",
    "test_dataset = torchvision.datasets.MNIST(root='../../data/',\n",
    "                                          train=False, \n",
    "                                          transform=transforms.ToTensor())\n",
    "\n",
    "# Data loader\n",
    "train_loader = torch.utils.data.DataLoader(dataset=train_dataset,\n",
    "                                           batch_size=batch_size, \n",
    "                                           shuffle=True)\n",
    "\n",
    "test_loader = torch.utils.data.DataLoader(dataset=test_dataset,\n",
    "                                          batch_size=batch_size, \n",
    "                                          shuffle=False)\n",
    "                                        \n",
    "print(\"====================DataLoader====================\")\n",
    "print(\"train set length:%s\" %len(train_loader))\n",
    "print(\"train set length:%s\" %len(test_loader))\n",
    "for i, (images, labels) in enumerate(train_loader):\n",
    "    b, c, h, w = images.size()\n",
    "    print(\"batch size:%s, channel:%s, height:%s, weight:%s\"\n",
    "        %(b, c, h, w))\n",
    "    images = images.view(b, h, w) #reshape\n",
    "    print(images.shape)\n",
    "    a = images\n",
    "    # plt.imshow(images[0].numpy())\n",
    "    transpose_image = torch.transpose(images, 1, 0)\n",
    "    print(transpose_image.shape)\n",
    "    b = transpose_image\n",
    "    # plt.imshow(transpose_image[0].numpy())\n",
    "    # print(images[0])\n",
    "    # print(images[0].size(0), images[0].size(1))\n",
    "    #print(labels)\n",
    "    break"
   ]
  },
  {
   "cell_type": "code",
   "execution_count": 26,
   "metadata": {},
   "outputs": [],
   "source": [
    "x = torch.randn(2, 3, 3)"
   ]
  },
  {
   "cell_type": "code",
   "execution_count": 27,
   "metadata": {},
   "outputs": [],
   "source": [
    "y = torch.transpose(x, 0, 1)"
   ]
  },
  {
   "cell_type": "code",
   "execution_count": 28,
   "metadata": {},
   "outputs": [
    {
     "name": "stdout",
     "output_type": "stream",
     "text": [
      "tensor([[[-0.0957, -0.1142,  0.0927],\n",
      "         [-0.0362,  1.2323, -0.4409],\n",
      "         [ 1.6371, -1.1550, -1.8251]],\n",
      "\n",
      "        [[-0.1399, -1.7639, -0.6529],\n",
      "         [-1.4898, -0.0776,  0.9224],\n",
      "         [-1.0106,  0.2177,  0.4592]]])\n"
     ]
    }
   ],
   "source": [
    "print(x)"
   ]
  },
  {
   "cell_type": "code",
   "execution_count": 29,
   "metadata": {},
   "outputs": [
    {
     "name": "stdout",
     "output_type": "stream",
     "text": [
      "tensor([[[-0.0957, -0.1142,  0.0927],\n",
      "         [-0.1399, -1.7639, -0.6529]],\n",
      "\n",
      "        [[-0.0362,  1.2323, -0.4409],\n",
      "         [-1.4898, -0.0776,  0.9224]],\n",
      "\n",
      "        [[ 1.6371, -1.1550, -1.8251],\n",
      "         [-1.0106,  0.2177,  0.4592]]])\n"
     ]
    }
   ],
   "source": [
    "print(y)"
   ]
  }
 ],
 "metadata": {
  "kernelspec": {
   "display_name": "Python 3",
   "language": "python",
   "name": "python3"
  },
  "language_info": {
   "codemirror_mode": {
    "name": "ipython",
    "version": 3
   },
   "file_extension": ".py",
   "mimetype": "text/x-python",
   "name": "python",
   "nbconvert_exporter": "python",
   "pygments_lexer": "ipython3",
   "version": "3.7.0"
  }
 },
 "nbformat": 4,
 "nbformat_minor": 2
}
