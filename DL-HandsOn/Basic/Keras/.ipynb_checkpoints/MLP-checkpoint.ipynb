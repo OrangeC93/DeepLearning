{
 "cells": [
  {
   "cell_type": "code",
   "execution_count": 5,
   "metadata": {},
   "outputs": [],
   "source": [
    "from keras.datasets import boston_housing"
   ]
  },
  {
   "cell_type": "markdown",
   "metadata": {},
   "source": [
    "# MLP for Regression tasks\n",
    "- When the target (y) is continuous (real)\n",
    "- For loss function and evaluation metric, mean squared error (MSE) is commonly used"
   ]
  },
  {
   "cell_type": "code",
   "execution_count": 3,
   "metadata": {},
   "outputs": [
    {
     "name": "stdout",
     "output_type": "stream",
     "text": [
      "Downloading data from https://s3.amazonaws.com/keras-datasets/boston_housing.npz\n",
      "57344/57026 [==============================] - 0s 3us/step\n"
     ]
    }
   ],
   "source": [
    "(X_train, y_train), (X_test, y_test) = boston_housing.load_data()"
   ]
  },
  {
   "cell_type": "markdown",
   "metadata": {},
   "source": [
    "## Dataset Description\n",
    "- Boston housing dataset has total 506 data instances (404 training & 102 test)\n",
    "- 13 attributes (features) to predict \"the median values of the houses at a location\"\n",
    "- Doc: https://keras.io/datasets/"
   ]
  },
  {
   "cell_type": "code",
   "execution_count": 4,
   "metadata": {},
   "outputs": [
    {
     "name": "stdout",
     "output_type": "stream",
     "text": [
      "(404, 13)\n",
      "(102, 13)\n",
      "(404,)\n",
      "(102,)\n"
     ]
    }
   ],
   "source": [
    "print(X_train.shape)\n",
    "print(X_test.shape)\n",
    "print(y_train.shape)\n",
    "print(y_test.shape)"
   ]
  },
  {
   "cell_type": "markdown",
   "metadata": {},
   "source": [
    "# 1. Creating a model\n",
    "- Keras model object can be created with Sequential class\n",
    "- At the outset, the model is empty per se. It is completed by 'adding' additional layers and compilation\n",
    "- Doc: https://keras.io/models/sequential/"
   ]
  },
  {
   "cell_type": "code",
   "execution_count": 5,
   "metadata": {},
   "outputs": [],
   "source": [
    "from keras.models import Sequential"
   ]
  },
  {
   "cell_type": "code",
   "execution_count": 6,
   "metadata": {},
   "outputs": [],
   "source": [
    "model = Sequential()"
   ]
  },
  {
   "cell_type": "markdown",
   "metadata": {},
   "source": [
    "## 1-1. Adding layers\n",
    "- Keras layers can be added to the model\n",
    "- Adding layers are like stacking lego blocks one by one\n",
    "- Doc: https://keras.io/layers/core/"
   ]
  },
  {
   "cell_type": "code",
   "execution_count": 14,
   "metadata": {},
   "outputs": [],
   "source": [
    "from keras.layers import Activation, Dense"
   ]
  },
  {
   "cell_type": "code",
   "execution_count": 8,
   "metadata": {},
   "outputs": [],
   "source": [
    "model.add(Dense(10, input_shape = (13,), activation = 'sigmoid'))\n",
    "model.add(Dense(10, activation = 'sigmoid'))\n",
    "model.add(Dense(10, activation = 'sigmoid'))\n",
    "model.add(Dense(1))"
   ]
  },
  {
   "cell_type": "markdown",
   "metadata": {},
   "source": [
    "## 1-2. Model compile\n",
    "- Keras model should be \"compiled\" prior to training\n",
    "- Types of loss (function) and optimizer should be designated\n",
    "- Doc (optimizers): https://keras.io/optimizers/\n",
    "- Doc (losses): https://keras.io/losses/"
   ]
  },
  {
   "cell_type": "code",
   "execution_count": 9,
   "metadata": {},
   "outputs": [],
   "source": [
    "from keras import optimizers"
   ]
  },
  {
   "cell_type": "code",
   "execution_count": 10,
   "metadata": {},
   "outputs": [],
   "source": [
    "sgd = optimizers.SGD(lr = 0.01)    # stochastic gradient descent optimizer"
   ]
  },
  {
   "cell_type": "code",
   "execution_count": 12,
   "metadata": {},
   "outputs": [],
   "source": [
    "model.compile(optimizer = sgd, \n",
    "              loss = 'mean_squared_error', metrics = ['mse'])    \n",
    "            # for regression problems, mean squared error (MSE) is often employed"
   ]
  },
  {
   "cell_type": "markdown",
   "metadata": {},
   "source": [
    "## Summary of the model"
   ]
  },
  {
   "cell_type": "code",
   "execution_count": 13,
   "metadata": {},
   "outputs": [
    {
     "name": "stdout",
     "output_type": "stream",
     "text": [
      "Model: \"sequential_1\"\n",
      "_________________________________________________________________\n",
      "Layer (type)                 Output Shape              Param #   \n",
      "=================================================================\n",
      "dense_1 (Dense)              (None, 10)                140       \n",
      "_________________________________________________________________\n",
      "dense_2 (Dense)              (None, 10)                110       \n",
      "_________________________________________________________________\n",
      "dense_3 (Dense)              (None, 10)                110       \n",
      "_________________________________________________________________\n",
      "dense_4 (Dense)              (None, 1)                 11        \n",
      "=================================================================\n",
      "Total params: 371\n",
      "Trainable params: 371\n",
      "Non-trainable params: 0\n",
      "_________________________________________________________________\n"
     ]
    }
   ],
   "source": [
    "model.summary()"
   ]
  },
  {
   "cell_type": "markdown",
   "metadata": {},
   "source": [
    "## 2. Training¶\n",
    "- Training the model with training data provided"
   ]
  },
  {
   "cell_type": "code",
   "execution_count": 14,
   "metadata": {},
   "outputs": [
    {
     "name": "stdout",
     "output_type": "stream",
     "text": [
      "Epoch 1/100\n",
      "404/404 [==============================] - 0s 442us/step - loss: 346.1380 - mse: 346.1381\n",
      "Epoch 2/100\n",
      "404/404 [==============================] - 0s 26us/step - loss: 104.0767 - mse: 104.0767\n",
      "Epoch 3/100\n",
      "404/404 [==============================] - 0s 26us/step - loss: 86.2186 - mse: 86.2186\n",
      "Epoch 4/100\n",
      "404/404 [==============================] - 0s 26us/step - loss: 83.5524 - mse: 83.5524\n",
      "Epoch 5/100\n",
      "404/404 [==============================] - 0s 27us/step - loss: 83.1412 - mse: 83.1412\n",
      "Epoch 6/100\n",
      "404/404 [==============================] - 0s 27us/step - loss: 84.9186 - mse: 84.9186\n",
      "Epoch 7/100\n",
      "404/404 [==============================] - 0s 28us/step - loss: 83.4625 - mse: 83.4625\n",
      "Epoch 8/100\n",
      "404/404 [==============================] - 0s 25us/step - loss: 82.7468 - mse: 82.7468\n",
      "Epoch 9/100\n",
      "404/404 [==============================] - 0s 27us/step - loss: 82.7515 - mse: 82.7515\n",
      "Epoch 10/100\n",
      "404/404 [==============================] - 0s 28us/step - loss: 80.9026 - mse: 80.9026\n",
      "Epoch 11/100\n",
      "404/404 [==============================] - 0s 27us/step - loss: 80.4430 - mse: 80.4430\n",
      "Epoch 12/100\n",
      "404/404 [==============================] - 0s 26us/step - loss: 79.4275 - mse: 79.4275\n",
      "Epoch 13/100\n",
      "404/404 [==============================] - 0s 28us/step - loss: 78.6495 - mse: 78.6494\n",
      "Epoch 14/100\n",
      "404/404 [==============================] - 0s 26us/step - loss: 77.8353 - mse: 77.8354\n",
      "Epoch 15/100\n",
      "404/404 [==============================] - 0s 26us/step - loss: 80.4297 - mse: 80.4297\n",
      "Epoch 16/100\n",
      "404/404 [==============================] - 0s 27us/step - loss: 80.4895 - mse: 80.4895\n",
      "Epoch 17/100\n",
      "404/404 [==============================] - 0s 26us/step - loss: 79.8003 - mse: 79.8003\n",
      "Epoch 18/100\n",
      "404/404 [==============================] - 0s 24us/step - loss: 79.0451 - mse: 79.0451\n",
      "Epoch 19/100\n",
      "404/404 [==============================] - 0s 26us/step - loss: 80.2680 - mse: 80.2681\n",
      "Epoch 20/100\n",
      "404/404 [==============================] - 0s 27us/step - loss: 80.7284 - mse: 80.7284\n",
      "Epoch 21/100\n",
      "404/404 [==============================] - 0s 26us/step - loss: 81.7026 - mse: 81.7026\n",
      "Epoch 22/100\n",
      "404/404 [==============================] - 0s 25us/step - loss: 80.8595 - mse: 80.8595\n",
      "Epoch 23/100\n",
      "404/404 [==============================] - 0s 28us/step - loss: 80.6498 - mse: 80.6498\n",
      "Epoch 24/100\n",
      "404/404 [==============================] - 0s 25us/step - loss: 81.2063 - mse: 81.2063\n",
      "Epoch 25/100\n",
      "404/404 [==============================] - 0s 25us/step - loss: 79.7554 - mse: 79.7554\n",
      "Epoch 26/100\n",
      "404/404 [==============================] - 0s 26us/step - loss: 80.7470 - mse: 80.7470\n",
      "Epoch 27/100\n",
      "404/404 [==============================] - 0s 26us/step - loss: 81.7938 - mse: 81.7938\n",
      "Epoch 28/100\n",
      "404/404 [==============================] - 0s 24us/step - loss: 79.5962 - mse: 79.5962\n",
      "Epoch 29/100\n",
      "404/404 [==============================] - 0s 26us/step - loss: 79.7245 - mse: 79.7245\n",
      "Epoch 30/100\n",
      "404/404 [==============================] - 0s 30us/step - loss: 79.5619 - mse: 79.5619\n",
      "Epoch 31/100\n",
      "404/404 [==============================] - 0s 26us/step - loss: 80.2336 - mse: 80.2336\n",
      "Epoch 32/100\n",
      "404/404 [==============================] - 0s 24us/step - loss: 79.0798 - mse: 79.0798\n",
      "Epoch 33/100\n",
      "404/404 [==============================] - 0s 27us/step - loss: 78.4480 - mse: 78.4480\n",
      "Epoch 34/100\n",
      "404/404 [==============================] - 0s 28us/step - loss: 78.1873 - mse: 78.1873\n",
      "Epoch 35/100\n",
      "404/404 [==============================] - 0s 25us/step - loss: 78.2542 - mse: 78.2542\n",
      "Epoch 36/100\n",
      "404/404 [==============================] - 0s 26us/step - loss: 78.5960 - mse: 78.5960\n",
      "Epoch 37/100\n",
      "404/404 [==============================] - 0s 22us/step - loss: 80.9717 - mse: 80.9717\n",
      "Epoch 38/100\n",
      "404/404 [==============================] - 0s 23us/step - loss: 79.7638 - mse: 79.7638\n",
      "Epoch 39/100\n",
      "404/404 [==============================] - 0s 23us/step - loss: 80.9278 - mse: 80.9278\n",
      "Epoch 40/100\n",
      "404/404 [==============================] - 0s 23us/step - loss: 80.5530 - mse: 80.5530\n",
      "Epoch 41/100\n",
      "404/404 [==============================] - 0s 23us/step - loss: 79.7332 - mse: 79.7332\n",
      "Epoch 42/100\n",
      "404/404 [==============================] - 0s 27us/step - loss: 78.8687 - mse: 78.8687\n",
      "Epoch 43/100\n",
      "404/404 [==============================] - 0s 28us/step - loss: 79.5398 - mse: 79.5398\n",
      "Epoch 44/100\n",
      "404/404 [==============================] - 0s 25us/step - loss: 79.5400 - mse: 79.5400\n",
      "Epoch 45/100\n",
      "404/404 [==============================] - 0s 24us/step - loss: 79.5229 - mse: 79.5229\n",
      "Epoch 46/100\n",
      "404/404 [==============================] - 0s 22us/step - loss: 78.3893 - mse: 78.3893\n",
      "Epoch 47/100\n",
      "404/404 [==============================] - 0s 21us/step - loss: 79.4782 - mse: 79.4782\n",
      "Epoch 48/100\n",
      "404/404 [==============================] - 0s 20us/step - loss: 78.0942 - mse: 78.0942\n",
      "Epoch 49/100\n",
      "404/404 [==============================] - 0s 18us/step - loss: 79.4886 - mse: 79.4886\n",
      "Epoch 50/100\n",
      "404/404 [==============================] - 0s 17us/step - loss: 78.7989 - mse: 78.7989\n",
      "Epoch 51/100\n",
      "404/404 [==============================] - 0s 22us/step - loss: 77.9840 - mse: 77.9840\n",
      "Epoch 52/100\n",
      "404/404 [==============================] - 0s 25us/step - loss: 79.4410 - mse: 79.4410\n",
      "Epoch 53/100\n",
      "404/404 [==============================] - 0s 26us/step - loss: 78.1716 - mse: 78.1716\n",
      "Epoch 54/100\n",
      "404/404 [==============================] - 0s 24us/step - loss: 77.8146 - mse: 77.8146\n",
      "Epoch 55/100\n",
      "404/404 [==============================] - 0s 24us/step - loss: 81.9948 - mse: 81.9948\n",
      "Epoch 56/100\n",
      "404/404 [==============================] - 0s 28us/step - loss: 78.2419 - mse: 78.2419\n",
      "Epoch 57/100\n",
      "404/404 [==============================] - 0s 34us/step - loss: 78.5043 - mse: 78.5043\n",
      "Epoch 58/100\n",
      "404/404 [==============================] - 0s 24us/step - loss: 78.4901 - mse: 78.4901\n",
      "Epoch 59/100\n",
      "404/404 [==============================] - 0s 25us/step - loss: 78.0883 - mse: 78.0883\n",
      "Epoch 60/100\n",
      "404/404 [==============================] - 0s 27us/step - loss: 77.7301 - mse: 77.7301\n",
      "Epoch 61/100\n",
      "404/404 [==============================] - 0s 28us/step - loss: 77.4766 - mse: 77.4766\n",
      "Epoch 62/100\n",
      "404/404 [==============================] - 0s 28us/step - loss: 78.5449 - mse: 78.5449\n",
      "Epoch 63/100\n",
      "404/404 [==============================] - 0s 27us/step - loss: 77.3913 - mse: 77.3913\n",
      "Epoch 64/100\n",
      "404/404 [==============================] - 0s 30us/step - loss: 79.2650 - mse: 79.2650\n",
      "Epoch 65/100\n",
      "404/404 [==============================] - 0s 26us/step - loss: 78.0172 - mse: 78.0172\n",
      "Epoch 66/100\n",
      "404/404 [==============================] - 0s 23us/step - loss: 77.9310 - mse: 77.9310\n",
      "Epoch 67/100\n",
      "404/404 [==============================] - 0s 27us/step - loss: 78.7793 - mse: 78.7793\n",
      "Epoch 68/100\n",
      "404/404 [==============================] - 0s 25us/step - loss: 77.2899 - mse: 77.2899\n",
      "Epoch 69/100\n",
      "404/404 [==============================] - 0s 30us/step - loss: 79.6977 - mse: 79.6977\n",
      "Epoch 70/100\n",
      "404/404 [==============================] - 0s 26us/step - loss: 77.3669 - mse: 77.3669\n",
      "Epoch 71/100\n",
      "404/404 [==============================] - 0s 28us/step - loss: 77.6786 - mse: 77.6786\n",
      "Epoch 72/100\n",
      "404/404 [==============================] - 0s 23us/step - loss: 77.9595 - mse: 77.9595\n",
      "Epoch 73/100\n",
      "404/404 [==============================] - 0s 24us/step - loss: 78.2621 - mse: 78.2621\n",
      "Epoch 74/100\n",
      "404/404 [==============================] - 0s 26us/step - loss: 78.4957 - mse: 78.4957\n",
      "Epoch 75/100\n",
      "404/404 [==============================] - 0s 24us/step - loss: 77.3826 - mse: 77.3826\n",
      "Epoch 76/100\n",
      "404/404 [==============================] - 0s 20us/step - loss: 77.6572 - mse: 77.6572\n",
      "Epoch 77/100\n",
      "404/404 [==============================] - 0s 24us/step - loss: 77.4690 - mse: 77.4690\n",
      "Epoch 78/100\n",
      "404/404 [==============================] - 0s 23us/step - loss: 77.2985 - mse: 77.2985\n",
      "Epoch 79/100\n",
      "404/404 [==============================] - 0s 24us/step - loss: 77.1530 - mse: 77.1530\n",
      "Epoch 80/100\n",
      "404/404 [==============================] - 0s 24us/step - loss: 77.3486 - mse: 77.3486\n",
      "Epoch 81/100\n",
      "404/404 [==============================] - 0s 23us/step - loss: 77.4644 - mse: 77.4644\n",
      "Epoch 82/100\n",
      "404/404 [==============================] - 0s 22us/step - loss: 80.0986 - mse: 80.0986\n"
     ]
    },
    {
     "name": "stdout",
     "output_type": "stream",
     "text": [
      "Epoch 83/100\n",
      "404/404 [==============================] - 0s 23us/step - loss: 78.0379 - mse: 78.0379\n",
      "Epoch 84/100\n",
      "404/404 [==============================] - 0s 24us/step - loss: 77.3559 - mse: 77.3559\n",
      "Epoch 85/100\n",
      "404/404 [==============================] - 0s 24us/step - loss: 77.4694 - mse: 77.4694\n",
      "Epoch 86/100\n",
      "404/404 [==============================] - 0s 25us/step - loss: 77.1097 - mse: 77.1097\n",
      "Epoch 87/100\n",
      "404/404 [==============================] - 0s 21us/step - loss: 77.0932 - mse: 77.0932\n",
      "Epoch 88/100\n",
      "404/404 [==============================] - 0s 23us/step - loss: 77.7284 - mse: 77.7284\n",
      "Epoch 89/100\n",
      "404/404 [==============================] - 0s 22us/step - loss: 79.5033 - mse: 79.5033\n",
      "Epoch 90/100\n",
      "404/404 [==============================] - 0s 21us/step - loss: 77.5806 - mse: 77.5806\n",
      "Epoch 91/100\n",
      "404/404 [==============================] - 0s 24us/step - loss: 77.8560 - mse: 77.8560\n",
      "Epoch 92/100\n",
      "404/404 [==============================] - 0s 20us/step - loss: 78.6346 - mse: 78.6346\n",
      "Epoch 93/100\n",
      "404/404 [==============================] - 0s 24us/step - loss: 77.5211 - mse: 77.5211\n",
      "Epoch 94/100\n",
      "404/404 [==============================] - 0s 22us/step - loss: 77.1106 - mse: 77.1106\n",
      "Epoch 95/100\n",
      "404/404 [==============================] - 0s 22us/step - loss: 78.6836 - mse: 78.6836\n",
      "Epoch 96/100\n",
      "404/404 [==============================] - 0s 26us/step - loss: 77.3601 - mse: 77.3601\n",
      "Epoch 97/100\n",
      "404/404 [==============================] - 0s 23us/step - loss: 77.9730 - mse: 77.9730\n",
      "Epoch 98/100\n",
      "404/404 [==============================] - 0s 22us/step - loss: 77.7072 - mse: 77.7072\n",
      "Epoch 99/100\n",
      "404/404 [==============================] - 0s 23us/step - loss: 77.1005 - mse: 77.1005\n",
      "Epoch 100/100\n",
      "404/404 [==============================] - 0s 22us/step - loss: 77.5145 - mse: 77.5145\n"
     ]
    },
    {
     "data": {
      "text/plain": [
       "<keras.callbacks.callbacks.History at 0x149c61f28>"
      ]
     },
     "execution_count": 14,
     "metadata": {},
     "output_type": "execute_result"
    }
   ],
   "source": [
    "model.fit(X_train, y_train, batch_size = 50, epochs = 100, verbose = 1)"
   ]
  },
  {
   "cell_type": "markdown",
   "metadata": {},
   "source": [
    "## 3. Evaluation\n",
    "- Keras model can be evaluated with evaluate() function\n",
    "- Evaluation results are contained in a list\n",
    "- Doc (metrics): https://keras.io/metrics/"
   ]
  },
  {
   "cell_type": "code",
   "execution_count": 15,
   "metadata": {},
   "outputs": [
    {
     "name": "stdout",
     "output_type": "stream",
     "text": [
      "102/102 [==============================] - 0s 264us/step\n"
     ]
    }
   ],
   "source": [
    "results = model.evaluate(X_test, y_test)"
   ]
  },
  {
   "cell_type": "code",
   "execution_count": 16,
   "metadata": {},
   "outputs": [
    {
     "name": "stdout",
     "output_type": "stream",
     "text": [
      "[79.29929396685432, 79.2992935180664]\n"
     ]
    }
   ],
   "source": [
    "print(results)      "
   ]
  },
  {
   "cell_type": "code",
   "execution_count": 18,
   "metadata": {},
   "outputs": [
    {
     "name": "stdout",
     "output_type": "stream",
     "text": [
      "loss:  79.29929396685432\n",
      "mse:  79.2992935180664\n"
     ]
    }
   ],
   "source": [
    "print('loss: ', results[0])\n",
    "print('mse: ', results[1])"
   ]
  },
  {
   "cell_type": "markdown",
   "metadata": {},
   "source": [
    "# MLP for classification tasks\n",
    "- When the target (y) is discrete (categorical)\n",
    "- For loss function, cross-entropy is used and for evaluation metric, accuracy is commonly used"
   ]
  },
  {
   "cell_type": "code",
   "execution_count": 6,
   "metadata": {},
   "outputs": [],
   "source": [
    "from sklearn.datasets import load_breast_cancer\n",
    "from sklearn.model_selection import train_test_split"
   ]
  },
  {
   "cell_type": "code",
   "execution_count": 7,
   "metadata": {},
   "outputs": [],
   "source": [
    "whole_data = load_breast_cancer()"
   ]
  },
  {
   "cell_type": "code",
   "execution_count": 8,
   "metadata": {},
   "outputs": [],
   "source": [
    "X_data = whole_data.data\n",
    "y_data = whole_data.target"
   ]
  },
  {
   "cell_type": "code",
   "execution_count": 9,
   "metadata": {},
   "outputs": [],
   "source": [
    "X_train, X_test, y_train, y_test = train_test_split(X_data, y_data, test_size = 0.3, random_state = 7)"
   ]
  },
  {
   "cell_type": "markdown",
   "metadata": {},
   "source": [
    "## Dataset Description\n",
    "- Breast cancer dataset has total 569 data instances (212 malign, 357 benign instances)\n",
    "- 30 attributes (features) to predict the binary class (M/B)\n",
    "- Doc: http://scikit-learn.org/stable/modules/generated/sklearn.datasets.load_breast_cancer.html#sklearn.datasets.load_breast_cancer"
   ]
  },
  {
   "cell_type": "code",
   "execution_count": 10,
   "metadata": {},
   "outputs": [
    {
     "name": "stdout",
     "output_type": "stream",
     "text": [
      "(398, 30)\n",
      "(171, 30)\n",
      "(398,)\n",
      "(171,)\n"
     ]
    }
   ],
   "source": [
    "print(X_train.shape)\n",
    "print(X_test.shape)\n",
    "print(y_train.shape)\n",
    "print(y_test.shape)"
   ]
  },
  {
   "cell_type": "markdown",
   "metadata": {},
   "source": [
    "## 1. Creating a model¶\n",
    "- Same with regression model at the outset"
   ]
  },
  {
   "cell_type": "code",
   "execution_count": 11,
   "metadata": {},
   "outputs": [],
   "source": [
    "from keras.models import Sequential"
   ]
  },
  {
   "cell_type": "code",
   "execution_count": 12,
   "metadata": {},
   "outputs": [],
   "source": [
    "model = Sequential()"
   ]
  },
  {
   "cell_type": "markdown",
   "metadata": {},
   "source": [
    "## 1-1. Adding layers\n",
    "- Keras layers can be added to the model\n",
    "- Adding layers are like stacking lego blocks one by one\n",
    "- It should be noted that as this is a classification problem, sigmoid layer (softmax for multi-class problems) should be added\n",
    "    - Doc: https://keras.io/layers/core/"
   ]
  },
  {
   "cell_type": "code",
   "execution_count": 15,
   "metadata": {},
   "outputs": [],
   "source": [
    "# This is equivalent to the above code block\n",
    "model.add(Dense(10, input_shape = (30,), activation = 'sigmoid'))\n",
    "model.add(Dense(10, activation = 'sigmoid'))\n",
    "model.add(Dense(10, activation = 'sigmoid'))\n",
    "model.add(Dense(1, activation = 'sigmoid'))"
   ]
  },
  {
   "cell_type": "markdown",
   "metadata": {},
   "source": [
    "## 1-2. Model compile\n",
    "- Keras model should be \"compiled\" prior to training\n",
    "- Types of loss (function) and optimizer should be designated\n",
    "    - Doc (optimizers): https://keras.io/optimizers/\n",
    "    - Doc (losses): https://keras.io/losses/"
   ]
  },
  {
   "cell_type": "code",
   "execution_count": 16,
   "metadata": {},
   "outputs": [],
   "source": [
    "from keras import optimizers"
   ]
  },
  {
   "cell_type": "code",
   "execution_count": 17,
   "metadata": {},
   "outputs": [],
   "source": [
    "sgd = optimizers.SGD(lr = 0.01) "
   ]
  },
  {
   "cell_type": "code",
   "execution_count": 18,
   "metadata": {},
   "outputs": [],
   "source": [
    "model.compile(optimizer = sgd, loss = 'binary_crossentropy', metrics = ['accuracy'])"
   ]
  },
  {
   "cell_type": "markdown",
   "metadata": {},
   "source": [
    "## Summary of the model"
   ]
  },
  {
   "cell_type": "code",
   "execution_count": 19,
   "metadata": {},
   "outputs": [
    {
     "name": "stdout",
     "output_type": "stream",
     "text": [
      "Model: \"sequential_2\"\n",
      "_________________________________________________________________\n",
      "Layer (type)                 Output Shape              Param #   \n",
      "=================================================================\n",
      "dense_1 (Dense)              (None, 10)                310       \n",
      "_________________________________________________________________\n",
      "dense_2 (Dense)              (None, 10)                110       \n",
      "_________________________________________________________________\n",
      "dense_3 (Dense)              (None, 10)                110       \n",
      "_________________________________________________________________\n",
      "dense_4 (Dense)              (None, 1)                 11        \n",
      "=================================================================\n",
      "Total params: 541\n",
      "Trainable params: 541\n",
      "Non-trainable params: 0\n",
      "_________________________________________________________________\n"
     ]
    }
   ],
   "source": [
    "model.summary()"
   ]
  },
  {
   "cell_type": "markdown",
   "metadata": {},
   "source": [
    "## 2. Training\n",
    "Training the model with training data provided"
   ]
  },
  {
   "cell_type": "code",
   "execution_count": 20,
   "metadata": {},
   "outputs": [
    {
     "name": "stdout",
     "output_type": "stream",
     "text": [
      "Epoch 1/100\n",
      "398/398 [==============================] - 0s 320us/step - loss: 0.9092 - accuracy: 0.3945\n",
      "Epoch 2/100\n",
      "398/398 [==============================] - 0s 30us/step - loss: 0.8774 - accuracy: 0.3945\n",
      "Epoch 3/100\n",
      "398/398 [==============================] - 0s 31us/step - loss: 0.8504 - accuracy: 0.3945\n",
      "Epoch 4/100\n",
      "398/398 [==============================] - 0s 31us/step - loss: 0.8267 - accuracy: 0.3945\n",
      "Epoch 5/100\n",
      "398/398 [==============================] - 0s 33us/step - loss: 0.8059 - accuracy: 0.3945\n",
      "Epoch 6/100\n",
      "398/398 [==============================] - 0s 33us/step - loss: 0.7879 - accuracy: 0.3945\n",
      "Epoch 7/100\n",
      "398/398 [==============================] - 0s 33us/step - loss: 0.7722 - accuracy: 0.3945\n",
      "Epoch 8/100\n",
      "398/398 [==============================] - 0s 26us/step - loss: 0.7586 - accuracy: 0.3945\n",
      "Epoch 9/100\n",
      "398/398 [==============================] - 0s 28us/step - loss: 0.7470 - accuracy: 0.3945\n",
      "Epoch 10/100\n",
      "398/398 [==============================] - 0s 31us/step - loss: 0.7367 - accuracy: 0.3945\n",
      "Epoch 11/100\n",
      "398/398 [==============================] - 0s 30us/step - loss: 0.7278 - accuracy: 0.3945\n",
      "Epoch 12/100\n",
      "398/398 [==============================] - 0s 26us/step - loss: 0.7201 - accuracy: 0.3945\n",
      "Epoch 13/100\n",
      "398/398 [==============================] - 0s 26us/step - loss: 0.7136 - accuracy: 0.3945\n",
      "Epoch 14/100\n",
      "398/398 [==============================] - 0s 31us/step - loss: 0.7079 - accuracy: 0.3945\n",
      "Epoch 15/100\n",
      "398/398 [==============================] - 0s 27us/step - loss: 0.7028 - accuracy: 0.3945\n",
      "Epoch 16/100\n",
      "398/398 [==============================] - 0s 28us/step - loss: 0.6985 - accuracy: 0.3945\n",
      "Epoch 17/100\n",
      "398/398 [==============================] - 0s 26us/step - loss: 0.6948 - accuracy: 0.3894\n",
      "Epoch 18/100\n",
      "398/398 [==============================] - 0s 25us/step - loss: 0.6915 - accuracy: 0.6106\n",
      "Epoch 19/100\n",
      "398/398 [==============================] - 0s 23us/step - loss: 0.6889 - accuracy: 0.6080\n",
      "Epoch 20/100\n",
      "398/398 [==============================] - 0s 24us/step - loss: 0.6864 - accuracy: 0.6055\n",
      "Epoch 21/100\n",
      "398/398 [==============================] - 0s 23us/step - loss: 0.6843 - accuracy: 0.6055\n",
      "Epoch 22/100\n",
      "398/398 [==============================] - 0s 26us/step - loss: 0.6825 - accuracy: 0.6055\n",
      "Epoch 23/100\n",
      "398/398 [==============================] - 0s 25us/step - loss: 0.6810 - accuracy: 0.6055\n",
      "Epoch 24/100\n",
      "398/398 [==============================] - 0s 23us/step - loss: 0.6796 - accuracy: 0.6055\n",
      "Epoch 25/100\n",
      "398/398 [==============================] - 0s 24us/step - loss: 0.6784 - accuracy: 0.6055\n",
      "Epoch 26/100\n",
      "398/398 [==============================] - 0s 24us/step - loss: 0.6774 - accuracy: 0.6055\n",
      "Epoch 27/100\n",
      "398/398 [==============================] - 0s 23us/step - loss: 0.6765 - accuracy: 0.6055\n",
      "Epoch 28/100\n",
      "398/398 [==============================] - 0s 24us/step - loss: 0.6757 - accuracy: 0.6055\n",
      "Epoch 29/100\n",
      "398/398 [==============================] - 0s 25us/step - loss: 0.6750 - accuracy: 0.6055\n",
      "Epoch 30/100\n",
      "398/398 [==============================] - 0s 23us/step - loss: 0.6744 - accuracy: 0.6055\n",
      "Epoch 31/100\n",
      "398/398 [==============================] - 0s 25us/step - loss: 0.6740 - accuracy: 0.6055\n",
      "Epoch 32/100\n",
      "398/398 [==============================] - 0s 26us/step - loss: 0.6736 - accuracy: 0.6055\n",
      "Epoch 33/100\n",
      "398/398 [==============================] - 0s 24us/step - loss: 0.6732 - accuracy: 0.6055\n",
      "Epoch 34/100\n",
      "398/398 [==============================] - 0s 24us/step - loss: 0.6728 - accuracy: 0.6055\n",
      "Epoch 35/100\n",
      "398/398 [==============================] - 0s 33us/step - loss: 0.6725 - accuracy: 0.6055\n",
      "Epoch 36/100\n",
      "398/398 [==============================] - 0s 26us/step - loss: 0.6723 - accuracy: 0.6055\n",
      "Epoch 37/100\n",
      "398/398 [==============================] - 0s 24us/step - loss: 0.6721 - accuracy: 0.6055\n",
      "Epoch 38/100\n",
      "398/398 [==============================] - 0s 26us/step - loss: 0.6719 - accuracy: 0.6055\n",
      "Epoch 39/100\n",
      "398/398 [==============================] - 0s 21us/step - loss: 0.6717 - accuracy: 0.6055\n",
      "Epoch 40/100\n",
      "398/398 [==============================] - 0s 22us/step - loss: 0.6716 - accuracy: 0.6055\n",
      "Epoch 41/100\n",
      "398/398 [==============================] - 0s 24us/step - loss: 0.6715 - accuracy: 0.6055\n",
      "Epoch 42/100\n",
      "398/398 [==============================] - 0s 25us/step - loss: 0.6713 - accuracy: 0.6055\n",
      "Epoch 43/100\n",
      "398/398 [==============================] - 0s 25us/step - loss: 0.6714 - accuracy: 0.6055\n",
      "Epoch 44/100\n",
      "398/398 [==============================] - 0s 28us/step - loss: 0.6712 - accuracy: 0.6055\n",
      "Epoch 45/100\n",
      "398/398 [==============================] - 0s 25us/step - loss: 0.6711 - accuracy: 0.6055\n",
      "Epoch 46/100\n",
      "398/398 [==============================] - 0s 25us/step - loss: 0.6710 - accuracy: 0.6055\n",
      "Epoch 47/100\n",
      "398/398 [==============================] - 0s 26us/step - loss: 0.6710 - accuracy: 0.6055\n",
      "Epoch 48/100\n",
      "398/398 [==============================] - 0s 23us/step - loss: 0.6709 - accuracy: 0.6055\n",
      "Epoch 49/100\n",
      "398/398 [==============================] - 0s 23us/step - loss: 0.6709 - accuracy: 0.6055\n",
      "Epoch 50/100\n",
      "398/398 [==============================] - 0s 28us/step - loss: 0.6709 - accuracy: 0.6055\n",
      "Epoch 51/100\n",
      "398/398 [==============================] - 0s 24us/step - loss: 0.6708 - accuracy: 0.6055\n",
      "Epoch 52/100\n",
      "398/398 [==============================] - 0s 26us/step - loss: 0.6708 - accuracy: 0.6055\n",
      "Epoch 53/100\n",
      "398/398 [==============================] - 0s 24us/step - loss: 0.6707 - accuracy: 0.6055\n",
      "Epoch 54/100\n",
      "398/398 [==============================] - 0s 25us/step - loss: 0.6707 - accuracy: 0.6055\n",
      "Epoch 55/100\n",
      "398/398 [==============================] - 0s 22us/step - loss: 0.6707 - accuracy: 0.6055\n",
      "Epoch 56/100\n",
      "398/398 [==============================] - 0s 23us/step - loss: 0.6706 - accuracy: 0.6055\n",
      "Epoch 57/100\n",
      "398/398 [==============================] - 0s 22us/step - loss: 0.6706 - accuracy: 0.6055\n",
      "Epoch 58/100\n",
      "398/398 [==============================] - 0s 28us/step - loss: 0.6706 - accuracy: 0.6055\n",
      "Epoch 59/100\n",
      "398/398 [==============================] - 0s 29us/step - loss: 0.6706 - accuracy: 0.6055\n",
      "Epoch 60/100\n",
      "398/398 [==============================] - 0s 24us/step - loss: 0.6706 - accuracy: 0.6055\n",
      "Epoch 61/100\n",
      "398/398 [==============================] - 0s 25us/step - loss: 0.6706 - accuracy: 0.6055\n",
      "Epoch 62/100\n",
      "398/398 [==============================] - 0s 25us/step - loss: 0.6706 - accuracy: 0.6055\n",
      "Epoch 63/100\n",
      "398/398 [==============================] - 0s 25us/step - loss: 0.6705 - accuracy: 0.6055\n",
      "Epoch 64/100\n",
      "398/398 [==============================] - 0s 23us/step - loss: 0.6706 - accuracy: 0.6055\n",
      "Epoch 65/100\n",
      "398/398 [==============================] - 0s 24us/step - loss: 0.6707 - accuracy: 0.6055\n",
      "Epoch 66/100\n",
      "398/398 [==============================] - 0s 23us/step - loss: 0.6706 - accuracy: 0.6055\n",
      "Epoch 67/100\n",
      "398/398 [==============================] - 0s 24us/step - loss: 0.6706 - accuracy: 0.6055\n",
      "Epoch 68/100\n",
      "398/398 [==============================] - 0s 24us/step - loss: 0.6705 - accuracy: 0.6055\n",
      "Epoch 69/100\n",
      "398/398 [==============================] - 0s 24us/step - loss: 0.6705 - accuracy: 0.6055\n",
      "Epoch 70/100\n",
      "398/398 [==============================] - 0s 23us/step - loss: 0.6705 - accuracy: 0.6055\n",
      "Epoch 71/100\n",
      "398/398 [==============================] - 0s 27us/step - loss: 0.6706 - accuracy: 0.6055\n",
      "Epoch 72/100\n",
      "398/398 [==============================] - 0s 24us/step - loss: 0.6705 - accuracy: 0.6055\n",
      "Epoch 73/100\n",
      "398/398 [==============================] - 0s 23us/step - loss: 0.6706 - accuracy: 0.6055\n",
      "Epoch 74/100\n",
      "398/398 [==============================] - 0s 23us/step - loss: 0.6705 - accuracy: 0.6055\n",
      "Epoch 75/100\n",
      "398/398 [==============================] - 0s 23us/step - loss: 0.6706 - accuracy: 0.6055\n",
      "Epoch 76/100\n",
      "398/398 [==============================] - 0s 24us/step - loss: 0.6706 - accuracy: 0.6055\n",
      "Epoch 77/100\n",
      "398/398 [==============================] - 0s 24us/step - loss: 0.6706 - accuracy: 0.6055\n",
      "Epoch 78/100\n",
      "398/398 [==============================] - 0s 22us/step - loss: 0.6705 - accuracy: 0.6055\n",
      "Epoch 79/100\n",
      "398/398 [==============================] - 0s 22us/step - loss: 0.6705 - accuracy: 0.6055\n",
      "Epoch 80/100\n"
     ]
    },
    {
     "name": "stdout",
     "output_type": "stream",
     "text": [
      "398/398 [==============================] - 0s 21us/step - loss: 0.6705 - accuracy: 0.6055\n",
      "Epoch 81/100\n",
      "398/398 [==============================] - 0s 22us/step - loss: 0.6706 - accuracy: 0.6055\n",
      "Epoch 82/100\n",
      "398/398 [==============================] - 0s 26us/step - loss: 0.6706 - accuracy: 0.6055\n",
      "Epoch 83/100\n",
      "398/398 [==============================] - 0s 22us/step - loss: 0.6705 - accuracy: 0.6055\n",
      "Epoch 84/100\n",
      "398/398 [==============================] - 0s 24us/step - loss: 0.6706 - accuracy: 0.6055\n",
      "Epoch 85/100\n",
      "398/398 [==============================] - 0s 21us/step - loss: 0.6706 - accuracy: 0.6055\n",
      "Epoch 86/100\n",
      "398/398 [==============================] - 0s 23us/step - loss: 0.6705 - accuracy: 0.6055\n",
      "Epoch 87/100\n",
      "398/398 [==============================] - 0s 27us/step - loss: 0.6705 - accuracy: 0.6055\n",
      "Epoch 88/100\n",
      "398/398 [==============================] - 0s 22us/step - loss: 0.6705 - accuracy: 0.6055\n",
      "Epoch 89/100\n",
      "398/398 [==============================] - 0s 24us/step - loss: 0.6705 - accuracy: 0.6055\n",
      "Epoch 90/100\n",
      "398/398 [==============================] - 0s 21us/step - loss: 0.6706 - accuracy: 0.6055\n",
      "Epoch 91/100\n",
      "398/398 [==============================] - 0s 22us/step - loss: 0.6705 - accuracy: 0.6055\n",
      "Epoch 92/100\n",
      "398/398 [==============================] - 0s 22us/step - loss: 0.6705 - accuracy: 0.6055\n",
      "Epoch 93/100\n",
      "398/398 [==============================] - 0s 20us/step - loss: 0.6705 - accuracy: 0.6055\n",
      "Epoch 94/100\n",
      "398/398 [==============================] - 0s 22us/step - loss: 0.6705 - accuracy: 0.6055\n",
      "Epoch 95/100\n",
      "398/398 [==============================] - 0s 22us/step - loss: 0.6705 - accuracy: 0.6055\n",
      "Epoch 96/100\n",
      "398/398 [==============================] - 0s 21us/step - loss: 0.6705 - accuracy: 0.6055\n",
      "Epoch 97/100\n",
      "398/398 [==============================] - 0s 21us/step - loss: 0.6705 - accuracy: 0.6055\n",
      "Epoch 98/100\n",
      "398/398 [==============================] - 0s 21us/step - loss: 0.6705 - accuracy: 0.6055\n",
      "Epoch 99/100\n",
      "398/398 [==============================] - 0s 23us/step - loss: 0.6705 - accuracy: 0.6055\n",
      "Epoch 100/100\n",
      "398/398 [==============================] - 0s 21us/step - loss: 0.6705 - accuracy: 0.6055\n"
     ]
    },
    {
     "data": {
      "text/plain": [
       "<keras.callbacks.callbacks.History at 0x14e98a3c8>"
      ]
     },
     "execution_count": 20,
     "metadata": {},
     "output_type": "execute_result"
    }
   ],
   "source": [
    "model.fit(X_train, y_train, batch_size = 50, epochs = 100, verbose = 1)"
   ]
  },
  {
   "cell_type": "markdown",
   "metadata": {},
   "source": [
    "## 3. Evaluation\n",
    "- Keras model can be evaluated with evaluate() function\n",
    "- Evaluation results are contained in a list\n",
    "- Doc (metrics): https://keras.io/metrics/"
   ]
  },
  {
   "cell_type": "code",
   "execution_count": 21,
   "metadata": {},
   "outputs": [
    {
     "name": "stdout",
     "output_type": "stream",
     "text": [
      "171/171 [==============================] - 0s 169us/step\n"
     ]
    }
   ],
   "source": [
    "results = model.evaluate(X_test, y_test)"
   ]
  },
  {
   "cell_type": "code",
   "execution_count": 22,
   "metadata": {},
   "outputs": [
    {
     "name": "stdout",
     "output_type": "stream",
     "text": [
      "['loss', 'accuracy']\n",
      "[0.6396208869086372, 0.6783625483512878]\n"
     ]
    }
   ],
   "source": [
    "print(model.metrics_names)     # list of metric names the model is employing\n",
    "print(results)                 # actual figure of metrics computed"
   ]
  },
  {
   "cell_type": "code",
   "execution_count": 24,
   "metadata": {},
   "outputs": [
    {
     "name": "stdout",
     "output_type": "stream",
     "text": [
      "loss:  0.6396208869086372\n",
      "accuracy:  0.6783625483512878\n"
     ]
    }
   ],
   "source": [
    "print('loss: ', results[0])\n",
    "print('accuracy: ', results[1])"
   ]
  }
 ],
 "metadata": {
  "kernelspec": {
   "display_name": "Python 3",
   "language": "python",
   "name": "python3"
  },
  "language_info": {
   "codemirror_mode": {
    "name": "ipython",
    "version": 3
   },
   "file_extension": ".py",
   "mimetype": "text/x-python",
   "name": "python",
   "nbconvert_exporter": "python",
   "pygments_lexer": "ipython3",
   "version": "3.7.0"
  }
 },
 "nbformat": 4,
 "nbformat_minor": 2
}
